{
  "cells": [
    {
      "cell_type": "markdown",
      "metadata": {
        "id": "Xqe4m1oWt1cb"
      },
      "source": [
        "\n",
        "# TP Pokemon première partie\n",
        "\n",
        "## Modules necessaires\n",
        "\n",
        "* PANDAS 0.24.2  => Permet la manipulation et l'analyse de données\n",
        "* NUMPY 1.16.3   => Permet la manipulation de tableaux et matrices\n",
        "\n",
        "Dans ce TP, nous allons découvrir à travers un cas pratique les premières étapes pour mener à bien un projet de Machine Learning. Cet exemple permet d'aborder un large panel de techniques propres au Machine Learning et à l'analyse de données.\n",
        "\n",
        "## L'univers des Pokémons\n",
        "\n",
        "Un Pokémon est un animal issu du monde des jeux vidéo. Chaque Pokémon possède des caractéristiques qui lui sont propres, à savoir son type (Pokémon d'herbe, Pokémon de feu ... ) lui donnant alors des facultés spéciales. Ainsi, le Pokémon nommé `Dracofeu`, de type `Feu` est capable de cracher du feu. De plus, on note l'existence de Pokémons légendaires très rares et très puissants (Pokémon diamant, Pokémon platine...).\n",
        "\n",
        "Les Pokémons sont également de différentes générations faisant référence à l'évolution de l'univers des Pokémons. Les Pokémons de première génération sont ceux ayant pris naissance au tout début de la création de l'univers (création de 151 Pokémons) pour arriver à la huitième génération avec plus de 800 Pokémons (2020)!\n",
        "\n",
        "Dans cet univers viennent ensuite les dresseurs de Pokémons. Les dresseurs les collectionnent et les élèvent dans le but de les faire combattre entre eux jusqu'au KO. Lors d'un combat de Pokémons, opposant deux dresseurs, l'un choisit l'animal qui sera le premier à entrer dans l'arène. En fonction de ce premier Pokémon, le second dresseur choisit un animal dans sa collection qui sera en mesure de battre le premier Pokémon. Si le premier Pokémon présent dans l'arène est de type feu, il y a de fortes chances que le Pokémon choisi par l'adversaire soit de type eau afin de contrer les attaques du premier.\n",
        "\n",
        "Cela nécessite pour le dresseur d'avoir une bonne connaissance de chaque Pokémon pour choisir celui qui pourra devenir vainqueur du combat. Pour l'aider dans son choix, les caractéristiques des Pokémons sont répertoriées dans un document appelé Pokédex.\n",
        "\n",
        "# Mission : choisir le bon Pokémon!\n",
        "\n",
        "En tant que dresseurs de Pokémon du 21e siècle, on vous demande de faire appel au Machine Learning pour faire le bon choix de Pokémon et ainsi gagner nos combats. Pour cela, vous pouvez vous appuyer sur des données en provenance du Pokédex, mais aussi sur des données issues des différents combats afin de trouver le bon modèle de prédiction qui pourra alors nous assurer une victoire lors de chaque bataille!\n",
        "\n",
        "\n",
        "# Des données pour un apprentissage supervisé\n",
        "\n",
        "## Des données basées sur l'expérience\n",
        "\n",
        "Le Machine Learning est basé sur l'utilisation de données afin de permettre à notre ordinateur d'apprendre et de pouvoir réaliser des prédictions. Ces données doivent être en relation avec la mission qui nous est confiée et basée sur l'expérience. Dans notre cas, l'expérience consiste à connaître les issues de combats de Pokémons.\n",
        "\n",
        "\n",
        "## Disposer d'un grand nombre de données d'apprentissage\n",
        "\n",
        "Une machine n'est pas capable d'apprendre sur un petit jeu de données, car elle doit pouvoir étudier toutes les possibilités pour réaliser ses prédictions. Par conséquent, plus le nombre de cas d'études pour résoudre un problème est important, plus les prédictions seront précises.\n",
        "\n",
        "## Des données d'apprentissage et des données de tests\n",
        "\n",
        "Tout comme l'être humain, il est nécessaire de valider l'apprentissage de la machine afin de pouvoir corriger les écarts d'apprentissage (appelés biais) et ajuster ou modifier le modèle d'apprentissage. Pour cela, nous avons besoin de données d'apprentissage et de données de tests.\n",
        "\n",
        "# Les étapes à réaliser pour mener à bien un projet de Machine Learning\n",
        "\n",
        "Mener à bien un projet de Machine Learning consiste à réaliser six étapes consécutives :\n",
        "\n",
        "1. Définition du problème à résoudre\n",
        "2. Acquisition des données d'apprentissages et de tests\n",
        "3. Préparer et nettoyer les données\n",
        "4. Analyser, explorer les données\n",
        "5. Choisir un modèle d'apprentissage\n",
        "6. Visualiser les résultats, et ajuster ou modifier le modèle d'apprentissage\n",
        "\n",
        "La phase de préparation des données est la plus importante dans un projet de Machine Learning, car en tant qu'humains, nous devons essayer de trouver les données les plus intéressantes qui nous permettront de répondre au problème donné.\n",
        "\n",
        "Bien plus qu'une simple analyse des données, il faut déterminer comment il nous est possible de résoudre manuellement le problème, à partir des informations dont nous disposons, avant de le confier à la machine.\n",
        "Ainsi, un même jeu de données peut être exploité différemment en fonction du problème donné.\n"
      ]
    },
    {
      "cell_type": "markdown",
      "metadata": {
        "id": "MbUD4dKXt1co"
      },
      "source": [
        "# Étape 1 : définir le problème à résoudre\n",
        "\n",
        "- Donner une défintion du problème à résoudre.\n",
        "\n",
        "- On dispose de différents pokémon ainsi que d'exemples de combat. Le but sera d'aider un dresseur de pokémon à associer le meilleur pokémon pour chaque combat qu'il aura à réaliser. "
      ]
    },
    {
      "cell_type": "markdown",
      "metadata": {
        "id": "wZkluzVHt1ct"
      },
      "source": [
        "# Étape 2: acquérir des données d'apprentissage et de tests\n",
        "\n",
        "- Importer les librairies `OS` et `pandas`\n",
        "\n",
        "- Télécharger et copier les fichiers comportant les données nécessaires à la résolution du problème : \n",
        "    1. Le fichier Pokedex.csv contient la liste des Pokémons et leurs caractéristiques. \n",
        "    2. Le fichier Combats.csv est la base de connaissance et d'apprentissage, car il contient une liste de combats de Pokémons et le résultat de chacun d'entre eux. \n",
        "    3. Enfin, le fichier tests.csv permettra de valider le modèle d'apprentissage.\n",
        "\n",
        "- Affichier la liste des fichiers dans le repértoire du projet\n"
      ]
    },
    {
      "cell_type": "code",
      "execution_count": 9,
      "metadata": {
        "colab": {
          "base_uri": "https://localhost:8080/"
        },
        "id": "c0LcglOtQd4-",
        "outputId": "f8fd2a97-50f8-40e8-8c82-89d384a8bf72"
      },
      "outputs": [
        {
          "name": "stdout",
          "output_type": "stream",
          "text": [
            "['combats.csv', 'tests.csv', 'combats copy.csv', 'pokedex.csv', 'pokedexOld.csv']\n"
          ]
        }
      ],
      "source": [
        "import os \n",
        "import sys\n",
        "sys.path.append(\"/home/vitcheffvi/Documents/IA/Deep_learning/venv/lib/python3.8/site-packages\")\n",
        "#Importer la lirairie pandas \n",
        "import pandas as pd\n",
        "import numpy as np \n",
        "path=\"data\"\n",
        "data = os.listdir(path)\n",
        "print(data)\n",
        "\n"
      ]
    },
    {
      "cell_type": "markdown",
      "metadata": {
        "id": "0k7prSkOt1cx"
      },
      "source": [
        "# Étape 3 : préparation des données\n",
        "\n",
        "Dans cette troisième étape, l'objectif est de réaliser une lecture approfondie des données afin de comprendre leur rôle et les impacts qu'elles peuvent avoir dans notre objectif de prédiction. C'est une sorte de résolution manuelle du problème en formulant des hypothèses et en essayant de sélectionner les données qui répondront à celles-ci.\n",
        "\n",
        "L'étude des données passe notamment par leur description (nom, type...), ainsi que par divers processus de traitement tels que le nettoyage (suppression des données inutiles, recherche des données manquantes) et enfin la combinaison entre elles, aussi appelée agrégation, dans le but de disposer d'un jeu de connaissances (observations) utilisables et appropriées à l'apprentissage et à l'atteinte de notre objectif.\n",
        "\n",
        "## De quelles données disposons-nous?\n",
        "\n",
        "#### - Quelle est la structure des données? Les données sont organisés en fichiers. Ce sont des .csv, chaque ligne représente un pokémon. Elles sont sous la forme de tableau. Pour les combats, il s'agit de lignes qui représente chacun un combat; il y a le numéro de pokédex des pokémon qui s'affrontent ainsi que le numéro de pokédex du vainqueur. \n",
        "#### - Afficher les 10 premières lignes \n",
        "#### - Quelles sont les features de catégorisation? \n",
        "#### - Est-ce qu'il existe des données de catégorisation ordinale? Le numéro de pokédex des pokémon est une catégorisation ordinale car on associe une valeur numérique à une variable qualitative qui est le nom du pokémon. \n",
        "#### - Préciser dans un tableau le type des données. \n",
        "#### - Quel est l'intérêt de connaitre les features de catégorisation? L'intérêt est de pouvoir ensuite trier les données en fonction de ses features pour avoir des bonnes données de test ainsi que des bonnes données d'entraînement. A travers les features, on peut diviser les données en données de test et d'entraînement. \n",
        "#### - Quelles données sont de type numérique (Préciser discrètes ou continues)?  Les points de vie ainsi que d'attaque de defense ou d'attaque spéciale ou de défense sont numériques. La vitesse est aussi une variable quantitative. Toutes ces variables sont quantitatives continues. Il existe aussi des valeurs numériques mais qui ne sont pas quantitatives. \n",
        "#### - Pourquoi il est important de les connaitre? Il est important de connaître ses données pour pouvoir ensuite calculer la moyenne dessus par exemple ou pouvoir les traiter en fonction de leur type. \n",
        "#### - Que faut-il penser de la feature LEGENDAIRE? La feature legendaire = VRAI signifie qu'il n'existe un seul pokémon et que celui ci est plus fort normalement que les autres; En revanche, cela siginifie que le dresseur ne possède pas forcément ce pokémon dans sa collection. \n",
        "#### - Transformer la feature $Legendaire$ en entier 0= FAUX et 1=VRAI\n",
        "#### - Combien avons-nous d'observations?\n",
        "#### - Afficher une description des données. \n",
        "#### - Afficher les informations sur le jeu de données\n",
        "#### - Manque-t-il des données? Oui, Il manque certaines données. En effet, certains pokémons ne possèdent pas de second type car ils sont spécialisés dans un seul de leur type. \n",
        "\n",
        "### Recherche des features manquantes\n",
        "\n",
        "####  - Chercher le Pokemon dont le nom est manquant\n",
        "####  - Comment traiter les observations manquantes? Le nom manquant n'est pas important car c'est le numéro de pokédex que l'on utilise dans le fichier \"combat.csv\". En revanche, pour les pokémons avec un seul type, cela peut influer lors de l'entraînement des données.  "
      ]
    },
    {
      "cell_type": "code",
      "execution_count": 10,
      "metadata": {
        "colab": {
          "base_uri": "https://localhost:8080/"
        },
        "id": "N5oLNKdYv-gn",
        "outputId": "760ef054-a876-4abd-e62e-8bb5615b5177"
      },
      "outputs": [
        {
          "name": "stdout",
          "output_type": "stream",
          "text": [
            "   NUMERO               NOM TYPE_1  TYPE_2  POINTS_DE_VIE  POINTS_ATTAQUE  \\\n",
            "0       1        Bulbizarre  Herbe  Poison             45              49   \n",
            "1       2        Herbizarre  Herbe  Poison             60              62   \n",
            "2       3        Florizarre  Herbe  Poison             80              82   \n",
            "3       4   Mega Florizarre  Herbe  Poison             80             100   \n",
            "4       5         Salamèche    Feu     NaN             39              52   \n",
            "5       6         Reptincel    Feu     NaN             58              64   \n",
            "6       7         Dracaufeu    Feu     Vol             78              84   \n",
            "7       8  Mega Dracaufeu X    Feu  Dragon             78             130   \n",
            "8       9  Mega Dracaufeu Y    Feu     Vol             78             104   \n",
            "9      10          Carapuce    Eau     NaN             44              48   \n",
            "\n",
            "   POINTS_DEFFENCE  POINTS_ATTAQUE_SPECIALE  POINT_DEFENSE_SPECIALE  \\\n",
            "0               49                       65                      65   \n",
            "1               63                       80                      80   \n",
            "2               83                      100                     100   \n",
            "3              123                      122                     120   \n",
            "4               43                       60                      50   \n",
            "5               58                       80                      65   \n",
            "6               78                      109                      85   \n",
            "7              111                      130                      85   \n",
            "8               78                      159                     115   \n",
            "9               65                       50                      64   \n",
            "\n",
            "   POINTS_VITESSE  NOMBRE_GENERATIONS LEGENDAIRE  \n",
            "0              45                   1       FAUX  \n",
            "1              60                   1       FAUX  \n",
            "2              80                   1       FAUX  \n",
            "3              80                   1       FAUX  \n",
            "4              65                   1       FAUX  \n",
            "5              80                   1       FAUX  \n",
            "6             100                   1       FAUX  \n",
            "7             100                   1       FAUX  \n",
            "8             100                   1       FAUX  \n",
            "9              43                   1       FAUX  \n"
          ]
        }
      ],
      "source": [
        "\n",
        "\n",
        "#Affichage des 10 premières lignes.\n",
        "df = pd.read_csv(os.path.join(path,\"pokedex.csv\"),sep=\";\")\n",
        "print(df.head(10))\n"
      ]
    },
    {
      "cell_type": "code",
      "execution_count": 11,
      "metadata": {
        "colab": {
          "base_uri": "https://localhost:8080/"
        },
        "id": "hD_gKD1r3IKc",
        "outputId": "0b8838c4-738c-4f33-a77a-490077a845a4"
      },
      "outputs": [
        {
          "name": "stdout",
          "output_type": "stream",
          "text": [
            "Il y a 12 features.\n"
          ]
        }
      ],
      "source": [
        "#Le nombre de feature sera le nombre de colonnes \n",
        "print(\"Il y a \"+str(len(df.axes[1]))+\" features.\")"
      ]
    },
    {
      "cell_type": "markdown",
      "metadata": {
        "id": "wjP14jnC6gOK"
      },
      "source": [
        "Les features sont : <br/>\n",
        "- Le nom\n",
        "- le numéro de pokédex\n",
        "- le type du pokémon principal\n",
        "- Un second type de pokémon facultatif\n",
        "- Un nombre de points de vie\n",
        "- Un nombre de points d'attaque\n",
        "- Un nombre de points de defense\n",
        "- Un nombre de points d'attaque spéciale\n",
        "- Un nombre de points de defense spéciale\n",
        "- Un nombre de points de vitesse. \n",
        "- Le numéro de la génération du pokémon\n",
        "- Une catégorie pour détecter si c'est un pokémon légendaire"
      ]
    },
    {
      "cell_type": "code",
      "execution_count": 12,
      "metadata": {
        "colab": {
          "base_uri": "https://localhost:8080/"
        },
        "id": "MAEjAO4HBKTA",
        "outputId": "e249612c-e5b0-4d6b-dacd-66a4693582dd"
      },
      "outputs": [
        {
          "name": "stdout",
          "output_type": "stream",
          "text": [
            "Le type de NUMERO est : <class 'int'>\n",
            "Le type de NOM est : <class 'str'>\n",
            "Le type de TYPE_1 est : <class 'str'>\n",
            "Le type de TYPE_2 est : <class 'str'>\n",
            "Le type de POINTS_DE_VIE est : <class 'int'>\n",
            "Le type de POINTS_ATTAQUE est : <class 'int'>\n",
            "Le type de POINTS_DEFFENCE est : <class 'int'>\n",
            "Le type de POINTS_ATTAQUE_SPECIALE est : <class 'int'>\n",
            "Le type de POINT_DEFENSE_SPECIALE est : <class 'int'>\n",
            "Le type de POINTS_VITESSE est : <class 'int'>\n",
            "Le type de NOMBRE_GENERATIONS est : <class 'int'>\n",
            "Le type de LEGENDAIRE est : <class 'str'>\n",
            "[['NUMERO' 'NOM' 'TYPE_1' 'TYPE_2' 'POINTS_DE_VIE' 'POINTS_ATTAQUE'\n",
            "  'POINTS_DEFFENCE' 'POINTS_ATTAQUE_SPECIALE' 'POINT_DEFENSE_SPECIALE'\n",
            "  'POINTS_VITESSE' 'NOMBRE_GENERATIONS' 'LEGENDAIRE']\n",
            " [<class 'int'> <class 'str'> <class 'str'> <class 'str'> <class 'int'>\n",
            "  <class 'int'> <class 'int'> <class 'int'> <class 'int'> <class 'int'>\n",
            "  <class 'int'> <class 'str'>]]\n"
          ]
        }
      ],
      "source": [
        "#On récupère le nom de chaque features de catégorisation. \n",
        "tabFeatures=df.columns.to_numpy()\n",
        "#On recupere la première ligne du pokédex pour avoir le type de variable\n",
        "premiereLigne=df.head(1).to_numpy()\n",
        "#Creation du tableau avec le type de variables. \n",
        "tabvar=[]\n",
        "for i in range(0,12):\n",
        "  tabvar.append(type(premiereLigne[0][i]))\n",
        "tabvar=np.array(tabvar)\n",
        "#On met le tableau tabFeatures et tabvar ensemble pour obtenir le tableau voulu. \n",
        "tabTypeVariables=np.array([tabFeatures,tabvar])\n",
        "#On affiche le tableau\n",
        "for i in range(0,12):\n",
        "  print(\"Le type de \"+str(tabTypeVariables[0][i])+\" est : \"+str(tabTypeVariables[1][i]))\n",
        "print(tabTypeVariables)"
      ]
    },
    {
      "cell_type": "code",
      "execution_count": 13,
      "metadata": {
        "colab": {
          "base_uri": "https://localhost:8080/"
        },
        "id": "3YeILtMuQM_b",
        "outputId": "28c3cfe1-eee5-4b3f-b5a8-76b218b2dd0f"
      },
      "outputs": [
        {
          "name": "stdout",
          "output_type": "stream",
          "text": [
            "   NUMERO               NOM TYPE_1  TYPE_2  POINTS_DE_VIE  POINTS_ATTAQUE  \\\n",
            "0       1        Bulbizarre  Herbe  Poison             45              49   \n",
            "1       2        Herbizarre  Herbe  Poison             60              62   \n",
            "2       3        Florizarre  Herbe  Poison             80              82   \n",
            "3       4   Mega Florizarre  Herbe  Poison             80             100   \n",
            "4       5         Salamèche    Feu     NaN             39              52   \n",
            "5       6         Reptincel    Feu     NaN             58              64   \n",
            "6       7         Dracaufeu    Feu     Vol             78              84   \n",
            "7       8  Mega Dracaufeu X    Feu  Dragon             78             130   \n",
            "8       9  Mega Dracaufeu Y    Feu     Vol             78             104   \n",
            "9      10          Carapuce    Eau     NaN             44              48   \n",
            "\n",
            "   POINTS_DEFFENCE  POINTS_ATTAQUE_SPECIALE  POINT_DEFENSE_SPECIALE  \\\n",
            "0               49                       65                      65   \n",
            "1               63                       80                      80   \n",
            "2               83                      100                     100   \n",
            "3              123                      122                     120   \n",
            "4               43                       60                      50   \n",
            "5               58                       80                      65   \n",
            "6               78                      109                      85   \n",
            "7              111                      130                      85   \n",
            "8               78                      159                     115   \n",
            "9               65                       50                      64   \n",
            "\n",
            "   POINTS_VITESSE  NOMBRE_GENERATIONS  LEGENDAIRE  \n",
            "0              45                   1           0  \n",
            "1              60                   1           0  \n",
            "2              80                   1           0  \n",
            "3              80                   1           0  \n",
            "4              65                   1           0  \n",
            "5              80                   1           0  \n",
            "6             100                   1           0  \n",
            "7             100                   1           0  \n",
            "8             100                   1           0  \n",
            "9              43                   1           0  \n"
          ]
        }
      ],
      "source": [
        "#On transforme le fichier csv\n",
        "df = pd.read_csv(os.path.join(path,\"pokedex.csv\"), sep=\";\")\n",
        "df['LEGENDAIRE']=df[\"LEGENDAIRE\"].replace(\"FAUX\", 0)\n",
        "df['LEGENDAIRE']=df[\"LEGENDAIRE\"].replace(\"VRAI\", 1)\n",
        "df.to_csv(os.path.join(path,\"pokedex.csv\"),sep=\";\",index=False)\n",
        "\n",
        "print(df.head(10))"
      ]
    },
    {
      "cell_type": "code",
      "execution_count": 14,
      "metadata": {
        "colab": {
          "base_uri": "https://localhost:8080/"
        },
        "id": "gEu_KZ-gRT_2",
        "outputId": "788133f7-d86b-40cb-929e-fd5a4c39b0bc"
      },
      "outputs": [
        {
          "name": "stdout",
          "output_type": "stream",
          "text": [
            "Il y a 800 observations.\n"
          ]
        }
      ],
      "source": [
        "#Afficher le nombre d'observations\n",
        "print(\"Il y a \"+str(len(df.axes[0]))+\" observations.\")"
      ]
    },
    {
      "cell_type": "code",
      "execution_count": 15,
      "metadata": {
        "colab": {
          "base_uri": "https://localhost:8080/",
          "height": 364
        },
        "id": "eo3eruuISims",
        "outputId": "75a29bd4-e0fa-4111-d658-3bf722eff553"
      },
      "outputs": [
        {
          "data": {
            "text/html": [
              "<div>\n",
              "<style scoped>\n",
              "    .dataframe tbody tr th:only-of-type {\n",
              "        vertical-align: middle;\n",
              "    }\n",
              "\n",
              "    .dataframe tbody tr th {\n",
              "        vertical-align: top;\n",
              "    }\n",
              "\n",
              "    .dataframe thead th {\n",
              "        text-align: right;\n",
              "    }\n",
              "</style>\n",
              "<table border=\"1\" class=\"dataframe\">\n",
              "  <thead>\n",
              "    <tr style=\"text-align: right;\">\n",
              "      <th></th>\n",
              "      <th>NUMERO</th>\n",
              "      <th>POINTS_DE_VIE</th>\n",
              "      <th>POINTS_ATTAQUE</th>\n",
              "      <th>POINTS_DEFFENCE</th>\n",
              "      <th>POINTS_ATTAQUE_SPECIALE</th>\n",
              "      <th>POINT_DEFENSE_SPECIALE</th>\n",
              "      <th>POINTS_VITESSE</th>\n",
              "      <th>NOMBRE_GENERATIONS</th>\n",
              "      <th>LEGENDAIRE</th>\n",
              "    </tr>\n",
              "  </thead>\n",
              "  <tbody>\n",
              "    <tr>\n",
              "      <th>count</th>\n",
              "      <td>800.0000</td>\n",
              "      <td>800.000000</td>\n",
              "      <td>800.000000</td>\n",
              "      <td>800.000000</td>\n",
              "      <td>800.000000</td>\n",
              "      <td>800.000000</td>\n",
              "      <td>800.000000</td>\n",
              "      <td>800.00000</td>\n",
              "      <td>800.00000</td>\n",
              "    </tr>\n",
              "    <tr>\n",
              "      <th>mean</th>\n",
              "      <td>400.5000</td>\n",
              "      <td>69.258750</td>\n",
              "      <td>79.001250</td>\n",
              "      <td>73.842500</td>\n",
              "      <td>72.820000</td>\n",
              "      <td>71.902500</td>\n",
              "      <td>68.277500</td>\n",
              "      <td>3.32375</td>\n",
              "      <td>0.08125</td>\n",
              "    </tr>\n",
              "    <tr>\n",
              "      <th>std</th>\n",
              "      <td>231.0844</td>\n",
              "      <td>25.534669</td>\n",
              "      <td>32.457366</td>\n",
              "      <td>31.183501</td>\n",
              "      <td>32.722294</td>\n",
              "      <td>27.828916</td>\n",
              "      <td>29.060474</td>\n",
              "      <td>1.66129</td>\n",
              "      <td>0.27339</td>\n",
              "    </tr>\n",
              "    <tr>\n",
              "      <th>min</th>\n",
              "      <td>1.0000</td>\n",
              "      <td>1.000000</td>\n",
              "      <td>5.000000</td>\n",
              "      <td>5.000000</td>\n",
              "      <td>10.000000</td>\n",
              "      <td>20.000000</td>\n",
              "      <td>5.000000</td>\n",
              "      <td>1.00000</td>\n",
              "      <td>0.00000</td>\n",
              "    </tr>\n",
              "    <tr>\n",
              "      <th>25%</th>\n",
              "      <td>200.7500</td>\n",
              "      <td>50.000000</td>\n",
              "      <td>55.000000</td>\n",
              "      <td>50.000000</td>\n",
              "      <td>49.750000</td>\n",
              "      <td>50.000000</td>\n",
              "      <td>45.000000</td>\n",
              "      <td>2.00000</td>\n",
              "      <td>0.00000</td>\n",
              "    </tr>\n",
              "    <tr>\n",
              "      <th>50%</th>\n",
              "      <td>400.5000</td>\n",
              "      <td>65.000000</td>\n",
              "      <td>75.000000</td>\n",
              "      <td>70.000000</td>\n",
              "      <td>65.000000</td>\n",
              "      <td>70.000000</td>\n",
              "      <td>65.000000</td>\n",
              "      <td>3.00000</td>\n",
              "      <td>0.00000</td>\n",
              "    </tr>\n",
              "    <tr>\n",
              "      <th>75%</th>\n",
              "      <td>600.2500</td>\n",
              "      <td>80.000000</td>\n",
              "      <td>100.000000</td>\n",
              "      <td>90.000000</td>\n",
              "      <td>95.000000</td>\n",
              "      <td>90.000000</td>\n",
              "      <td>90.000000</td>\n",
              "      <td>5.00000</td>\n",
              "      <td>0.00000</td>\n",
              "    </tr>\n",
              "    <tr>\n",
              "      <th>max</th>\n",
              "      <td>800.0000</td>\n",
              "      <td>255.000000</td>\n",
              "      <td>190.000000</td>\n",
              "      <td>230.000000</td>\n",
              "      <td>194.000000</td>\n",
              "      <td>230.000000</td>\n",
              "      <td>180.000000</td>\n",
              "      <td>6.00000</td>\n",
              "      <td>1.00000</td>\n",
              "    </tr>\n",
              "  </tbody>\n",
              "</table>\n",
              "</div>"
            ],
            "text/plain": [
              "         NUMERO  POINTS_DE_VIE  POINTS_ATTAQUE  POINTS_DEFFENCE  \\\n",
              "count  800.0000     800.000000      800.000000       800.000000   \n",
              "mean   400.5000      69.258750       79.001250        73.842500   \n",
              "std    231.0844      25.534669       32.457366        31.183501   \n",
              "min      1.0000       1.000000        5.000000         5.000000   \n",
              "25%    200.7500      50.000000       55.000000        50.000000   \n",
              "50%    400.5000      65.000000       75.000000        70.000000   \n",
              "75%    600.2500      80.000000      100.000000        90.000000   \n",
              "max    800.0000     255.000000      190.000000       230.000000   \n",
              "\n",
              "       POINTS_ATTAQUE_SPECIALE  POINT_DEFENSE_SPECIALE  POINTS_VITESSE  \\\n",
              "count               800.000000              800.000000      800.000000   \n",
              "mean                 72.820000               71.902500       68.277500   \n",
              "std                  32.722294               27.828916       29.060474   \n",
              "min                  10.000000               20.000000        5.000000   \n",
              "25%                  49.750000               50.000000       45.000000   \n",
              "50%                  65.000000               70.000000       65.000000   \n",
              "75%                  95.000000               90.000000       90.000000   \n",
              "max                 194.000000              230.000000      180.000000   \n",
              "\n",
              "       NOMBRE_GENERATIONS  LEGENDAIRE  \n",
              "count           800.00000   800.00000  \n",
              "mean              3.32375     0.08125  \n",
              "std               1.66129     0.27339  \n",
              "min               1.00000     0.00000  \n",
              "25%               2.00000     0.00000  \n",
              "50%               3.00000     0.00000  \n",
              "75%               5.00000     0.00000  \n",
              "max               6.00000     1.00000  "
            ]
          },
          "metadata": {},
          "output_type": "display_data"
        }
      ],
      "source": [
        "#Description du jeu de données\n",
        "display(df.describe())"
      ]
    },
    {
      "cell_type": "code",
      "execution_count": 16,
      "metadata": {
        "colab": {
          "base_uri": "https://localhost:8080/",
          "height": 712
        },
        "id": "-abZIj6fThQQ",
        "outputId": "93620f37-c05b-401f-aae8-f151baa12355"
      },
      "outputs": [
        {
          "data": {
            "text/plain": [
              "<bound method DataFrame.info of      NUMERO              NOM TYPE_1   TYPE_2  POINTS_DE_VIE  POINTS_ATTAQUE  \\\n",
              "0         1       Bulbizarre  Herbe   Poison             45              49   \n",
              "1         2       Herbizarre  Herbe   Poison             60              62   \n",
              "2         3       Florizarre  Herbe   Poison             80              82   \n",
              "3         4  Mega Florizarre  Herbe   Poison             80             100   \n",
              "4         5        Salamèche    Feu      NaN             39              52   \n",
              "..      ...              ...    ...      ...            ...             ...   \n",
              "795     796          Diancie  Roche      Fée             50             100   \n",
              "796     797     Mega Diancie  Roche      Fée             50             160   \n",
              "797     798    Hoopa confiné    Psy  Spectre             80             110   \n",
              "798     799    Hoopa non lié    Psy   Obscur             80             160   \n",
              "799     800        Volcanion    Feu      Eau             80             110   \n",
              "\n",
              "     POINTS_DEFFENCE  POINTS_ATTAQUE_SPECIALE  POINT_DEFENSE_SPECIALE  \\\n",
              "0                 49                       65                      65   \n",
              "1                 63                       80                      80   \n",
              "2                 83                      100                     100   \n",
              "3                123                      122                     120   \n",
              "4                 43                       60                      50   \n",
              "..               ...                      ...                     ...   \n",
              "795              150                      100                     150   \n",
              "796              110                      160                     110   \n",
              "797               60                      150                     130   \n",
              "798               60                      170                     130   \n",
              "799              120                      130                      90   \n",
              "\n",
              "     POINTS_VITESSE  NOMBRE_GENERATIONS  LEGENDAIRE  \n",
              "0                45                   1           0  \n",
              "1                60                   1           0  \n",
              "2                80                   1           0  \n",
              "3                80                   1           0  \n",
              "4                65                   1           0  \n",
              "..              ...                 ...         ...  \n",
              "795              50                   6           1  \n",
              "796             110                   6           1  \n",
              "797              70                   6           1  \n",
              "798              80                   6           1  \n",
              "799              70                   6           1  \n",
              "\n",
              "[800 rows x 12 columns]>"
            ]
          },
          "metadata": {},
          "output_type": "display_data"
        }
      ],
      "source": [
        "#Afficher les infos du jeu de données\n",
        "display(df.info)"
      ]
    },
    {
      "cell_type": "code",
      "execution_count": 17,
      "metadata": {
        "colab": {
          "base_uri": "https://localhost:8080/"
        },
        "id": "k3nzGsRDUmwE",
        "outputId": "791e8512-0b84-4bda-c1bd-1bd781841e8d"
      },
      "outputs": [
        {
          "name": "stdout",
          "output_type": "stream",
          "text": [
            "Le pokémon numéro 63 n'a pas de nom.\n"
          ]
        }
      ],
      "source": [
        "#Chercher le pokémon dont le nom manque\n",
        "for i in range(0,800):\n",
        "  if df[\"NOM\"].isnull()[i]:\n",
        "    print(\"Le pokémon numéro \"+str(i+1)+\" n'a pas de nom.\")"
      ]
    },
    {
      "cell_type": "markdown",
      "metadata": {
        "id": "wg5fntnJt1c2"
      },
      "source": [
        "# Partie 2\n",
        "\n",
        "##  Observations des combats"
      ]
    },
    {
      "cell_type": "markdown",
      "metadata": {
        "id": "QQvMGcdet1c4"
      },
      "source": [
        "#### - Refaire les étapes précédentes pour analyser les observation sur les combats (fichier `combats.csv`) :\n",
        "\n",
        "- Chargement du fichier\n",
        "- Affichage des features\n",
        "- Affichage des dix premières observations\n",
        "- Classement des features: donnée catégorielle, numérique continue ou numérique discrète\n",
        "- 10 premières lignes, Comptage du nombre d'observations, affichage des informations  et recherche d'éventuelles données absentes\n",
        "\n",
        "#### - Discuter les résultats de l'analyse\n",
        "\n",
        "\n",
        "#### - Calucler le nombre de combats menés par chaque Pokémon\n",
        "Lors d'un combat, un Pokémon peut être utilisé en première position ou en seconde position.\n",
        "\n",
        "#### - Calucler le nombre de combats gagnés par chaque Pokémon \n",
        "\n",
        "#### - Faire l'assemblage des observations\n",
        "\n",
        "#### - Quel est le Pockémon qui a gagné le plus de combats? \n",
        "\n",
        "#### - Existe-t-il des Pokémons n'ayant jamais gagné?\n",
        "\n",
        "\n",
        "\n"
      ]
    },
    {
      "cell_type": "markdown",
      "metadata": {
        "id": "_zQBw2OUt1c7"
      },
      "source": [
        "# Partie 3\n",
        "\n",
        "## Agrégation des données avec le Pokédex\n",
        "\n",
        "Cette agrégation va nous permettre d'avoir une vue centralisée des données et de permettre une analyse plus approfondie.\n",
        "\n",
        "#### - Créer une liste comportant :\n",
        "- Les numéros des Pokémons\n",
        "- Le nombre de combats menés\n",
        "- Le nombre de combats gagnés\n",
        "- Le pourcentage de victoires par rapport au nombre de combats menés\n",
        "\n",
        "#### - Créer un nouveau Pokedex comportant les noms de Pokemons et leur victoire\n"
      ]
    },
    {
      "cell_type": "code",
      "execution_count": null,
      "metadata": {
        "id": "A0N8m3nAt1c9"
      },
      "outputs": [],
      "source": []
    },
    {
      "cell_type": "code",
      "execution_count": null,
      "metadata": {
        "id": "iN7f-Kdlt1dB"
      },
      "outputs": [],
      "source": []
    }
  ],
  "metadata": {
    "colab": {
      "collapsed_sections": [],
      "provenance": []
    },
    "kernelspec": {
      "display_name": "Python 3.10.6 64-bit",
      "language": "python",
      "name": "python3"
    },
    "language_info": {
      "codemirror_mode": {
        "name": "ipython",
        "version": 3
      },
      "file_extension": ".py",
      "mimetype": "text/x-python",
      "name": "python",
      "nbconvert_exporter": "python",
      "pygments_lexer": "ipython3",
      "version": "3.10.6"
    },
    "vscode": {
      "interpreter": {
        "hash": "916dbcbb3f70747c44a77c7bcd40155683ae19c65e1c03b4aa3499c5328201f1"
      }
    }
  },
  "nbformat": 4,
  "nbformat_minor": 0
}
